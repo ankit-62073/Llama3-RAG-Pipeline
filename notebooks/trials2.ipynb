{
 "cells": [
  {
   "cell_type": "code",
   "execution_count": null,
   "metadata": {},
   "outputs": [
    {
     "ename": "",
     "evalue": "",
     "output_type": "error",
     "traceback": [
      "\u001b[1;31mRunning cells with 'Python 3.10.4' requires the ipykernel package.\n",
      "\u001b[1;31mRun the following command to install 'ipykernel' into the Python environment. \n",
      "\u001b[1;31mCommand: '\"c:/Users/ANKIT SINGH/AppData/Local/Programs/Python/Python310/python.exe\" -m pip install ipykernel -U --user --force-reinstall'"
     ]
    }
   ],
   "source": [
    "from langchain_core.documents import Document\n",
    "from src.model import create_reranker, create_llm\n",
    "from langchain.retrievers.document_compressors.chain_filter import LLMChainFilter\n",
    "from langchain.globals import set_verbose\n",
    "\n",
    "set_verbose(True)"
   ]
  },
  {
   "cell_type": "code",
   "execution_count": null,
   "metadata": {},
   "outputs": [],
   "source": [
    "reranker = create_reranker()"
   ]
  },
  {
   "cell_type": "code",
   "execution_count": null,
   "metadata": {},
   "outputs": [],
   "source": [
    "documents=[\n",
    "    Document(\"\"\"Not since Porsche blew airl cooling out the back door in 1999 with the 996-generation 911 has there been a bigger change that will upset more Porsche fans than the hybridization of the 911. Fans, however, are not necessarily owners, and those with the means will not mind the 21st-century tech one bit, because if Porsche didn't tell anyone this updated 992.4 was a hybrid, no one would know by how it drives.\n",
    "\n",
    "\"\"\"),\n",
    "    Document(\"\"\"For now, the new 3.6-liter flat-six operating in perfect stoichiometry all the its electrified turbocharger, and eight-speed dual-clutch gearbox with an integral electric motor are limited to the GTS, which used to be powered by a jazzed-up version of the twin-turbo 3.0-liter in the base Carrera.\n",
    "\n",
    "\"\"\"),\n",
    "    Document(\"\"\"Anyway, the screen is cheaper, but at least Porsche does some cool stuff with it. There are seven different views, including a classic five-gauge cluster, but the most interesting of them is a track-focused mode that clocks the tach so that the redline is near 12 o'clock. Porsche would have scored more points if it had kept the orientation of the tach numbers so that they locked with the twist, like a real clocked tach out of a 917.\n",
    "\"\"\"),\n",
    "    Document(\"\"\"The bad news is that the GTS coupe starts at $166,895. The back seat is no longer standard, though adding the +2 second row is a no-cost option. That's mega money, but until Porsche sees sales drop, you better believe it will keep raising its prices. That's just basic supply-demand, and plenty of people will line up for this water-cooled hybrid.\n",
    "\"\"\")\n",
    "\n",
    "]"
   ]
  },
  {
   "cell_type": "markdown",
   "metadata": {},
   "source": [
    "Reranker"
   ]
  },
  {
   "cell_type": "code",
   "execution_count": null,
   "metadata": {},
   "outputs": [],
   "source": [
    "reranked_documents = reranker.compress_documents(documents, \"what is the price?\")"
   ]
  },
  {
   "cell_type": "code",
   "execution_count": null,
   "metadata": {},
   "outputs": [],
   "source": [
    "first_result = reranked_documents[0]\n",
    "print(first_result.__dict__.keys())\n",
    "print(\"score:\", first_result.metadata[\"relevance_score\"])\n",
    "print(first_result.page_content)"
   ]
  },
  {
   "cell_type": "markdown",
   "metadata": {},
   "source": [
    "LLM Chain Filter"
   ]
  },
  {
   "cell_type": "code",
   "execution_count": null,
   "metadata": {},
   "outputs": [],
   "source": [
    "chain_filter = LLMChainFilter.from_llm(create_llm())\n",
    "filtered_documents = chain_filter.compress_documents(documents, \"How many seats in the car?\")"
   ]
  },
  {
   "cell_type": "code",
   "execution_count": null,
   "metadata": {},
   "outputs": [],
   "source": [
    "print(len(filtered_documents))\n",
    "print(filtered_documents[0].page_content)"
   ]
  },
  {
   "cell_type": "code",
   "execution_count": 1,
   "metadata": {},
   "outputs": [
    {
     "data": {
      "text/plain": [
       "\"The sky appears blue to us because of a phenomenon called scattering, which occurs when sunlight interacts with the tiny molecules of gases in the atmosphere. Here's a simplified explanation:\\n\\n1. **Sunlight enters Earth's atmosphere**: When the sun shines, it emits all kinds of electromagnetic radiation, including visible light. This light travels through space and into our atmosphere.\\n2. **Light scatters off gas molecules**: As sunlight enters the atmosphere, it encounters tiny molecules of gases like nitrogen (N2) and oxygen (O2). These molecules are much smaller than the wavelength of light, so they scatter the light in all directions.\\n3. **Shorter wavelengths scattered more**: The shorter wavelengths of light, which we perceive as blue and violet, are scattered more than the longer wavelengths, such as red and orange. This is because the smaller molecules are more effective at scattering the shorter wavelengths.\\n4. **Blue light reaches our eyes**: As a result of this scattering process, the blue light is distributed throughout the atmosphere and reaches our eyes from all directions. This is why the sky appears blue to us.\\n\\nThis phenomenon is known as Rayleigh scattering, named after the British physicist Lord Rayleigh, who first described it in the late 19th century. The scattering effect is more pronounced during the daytime when the sun is overhead, which is why the sky usually appears blue at that time.\\n\\nIt's worth noting that the exact shade of blue we see can vary depending on factors like:\\n\\n* Time of day: As mentioned earlier, the color of the sky changes throughout the day.\\n* Atmospheric conditions: Pollution, dust, and water vapor in the atmosphere can affect the scattering process and alter the apparent color of the sky.\\n* Observer's location: The angle of observation and the amount of atmosphere between the observer and the sun also influence what we see.\\n\\nSo, to summarize, the sky appears blue due to the scattering of sunlight by tiny molecules in the Earth's atmosphere, with shorter wavelengths (like blue light) being scattered more than longer wavelengths!\""
      ]
     },
     "execution_count": 1,
     "metadata": {},
     "output_type": "execute_result"
    }
   ],
   "source": [
    "from langchain_community.llms import Ollama\n",
    "\n",
    "llm = Ollama(model=\"llama3.1\", base_url=\"http://localhost:11434/\")\n",
    "llm.invoke(\"Why is the sky blue?\")"
   ]
  }
 ],
 "metadata": {
  "kernelspec": {
   "display_name": "Python 3",
   "language": "python",
   "name": "python3"
  },
  "language_info": {
   "codemirror_mode": {
    "name": "ipython",
    "version": 3
   },
   "file_extension": ".py",
   "mimetype": "text/x-python",
   "name": "python",
   "nbconvert_exporter": "python",
   "pygments_lexer": "ipython3",
   "version": "3.12.3"
  }
 },
 "nbformat": 4,
 "nbformat_minor": 2
}
