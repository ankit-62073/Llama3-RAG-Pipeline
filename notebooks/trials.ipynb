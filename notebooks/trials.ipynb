{
 "cells": [
  {
   "cell_type": "code",
   "execution_count": 1,
   "metadata": {},
   "outputs": [
    {
     "name": "stdout",
     "output_type": "stream",
     "text": [
      "OK\n"
     ]
    }
   ],
   "source": [
    "print('OK')"
   ]
  },
  {
   "cell_type": "code",
   "execution_count": 4,
   "metadata": {},
   "outputs": [],
   "source": [
    "from langchain.document_loaders import PyPDFLoader,DirectoryLoader\n",
    "from langchain.text_splitter import RecursiveCharacterTextSplitter\n",
    "from langchain.embeddings import HuggingFaceEmbeddings\n",
    "from langchain.vectorstores import FAISS\n",
    "from langchain.chains import RetrievalQA\n",
    "import os\n",
    "# from PyPDF2 import PdfReader"
   ]
  },
  {
   "cell_type": "code",
   "execution_count": 5,
   "metadata": {},
   "outputs": [],
   "source": [
    "# Recursive text splitter function\n",
    "def recursive_text_split(text, chunk_size=1000, overlap=100):\n",
    "    splitter = RecursiveCharacterTextSplitter(chunk_size = chunk_size, chunk_overlap = overlap)\n",
    "    return splitter.split_text(text)"
   ]
  },
  {
   "cell_type": "code",
   "execution_count": 7,
   "metadata": {},
   "outputs": [],
   "source": [
    "# Function to process the uploaded file based on its type\n",
    "def process_file(file_path):\n",
    "    ext = os.path.splitext(file_path)[1].lower()\n",
    "    chunks = []\n",
    "\n",
    "    # handle different file types\n",
    "    if ext == '.txt':\n",
    "        # Handle text files\n",
    "        with open(file_path,'r', encoding='utf-8') as file:\n",
    "            text = file.read()\n",
    "        chunks = recursive_text_split(text)\n",
    "\n",
    "    elif ext == '.pdf':\n",
    "        # Handle PDF files\n",
    "        reader = PdfReader(file_path)\n",
    "        text = \"\"\n",
    "        for page in reader.pages:\n",
    "            text += page.extract_text()\n",
    "        chunks = recursive_text_split(text)\n",
    "    \n",
    "    elif ext == '.csv':\n",
    "        # Handle CSV files\n",
    "        df = pd.read_csv(file_path)\n",
    "        text = df.to_string()\n",
    "        chunks = recursive_text_split(text)\n",
    "\n",
    "    elif ext in ['.py','.java','.cpp','.c','.js','.html','.css','.r','.kt',',sh']:\n",
    "        # Handle programming files\n",
    "        with open(file_path, 'r', encoding='utf-8') as file:\n",
    "            code = file.read()\n",
    "        chunks = recursive_text_split(code)\n",
    "\n",
    "    elif ext in ['.json','.xml','.yml','.yaml']:\n",
    "        # Handle data files like JSON, XML, YAML\n",
    "        with open(file_path, 'r',encoding='utf-8') as file:\n",
    "            data = file.read()\n",
    "        chunks = recursive_text_split(data)\n",
    "    else:\n",
    "        return f\"Unsupported file format: {ext}\"\n",
    "    \n",
    "    return chunks"
   ]
  },
  {
   "cell_type": "code",
   "execution_count": 8,
   "metadata": {},
   "outputs": [],
   "source": [
    "# Load document using PyPDFLoader document loader\n",
    "loader = PyPDFLoader(\"/home/data04/Desktop/Llama3_RAG_Pipeline/data/data.pdf\")\n",
    "documents = loader.load()"
   ]
  },
  {
   "cell_type": "code",
   "execution_count": 9,
   "metadata": {},
   "outputs": [
    {
     "name": "stdout",
     "output_type": "stream",
     "text": [
      "Requirement already satisfied: pypdf in /home/data04/Desktop/Llama3_RAG_Pipeline/ragpipeline/lib/python3.9/site-packages (5.0.0)\n",
      "Requirement already satisfied: typing_extensions>=4.0 in /home/data04/Desktop/Llama3_RAG_Pipeline/ragpipeline/lib/python3.9/site-packages (from pypdf) (4.12.2)\n",
      "Note: you may need to restart the kernel to use updated packages.\n"
     ]
    }
   ],
   "source": [
    "pip install pypdf"
   ]
  },
  {
   "cell_type": "code",
   "execution_count": 10,
   "metadata": {},
   "outputs": [],
   "source": [
    "# Splitting the data into chunks\n",
    "from langchain.text_splitter import CharacterTextSplitter\n",
    "\n",
    "text_splitter = RecursiveCharacterTextSplitter(chunk_size = 500, chunk_overlap=50,separators=\"\\n\")\n",
    "docs = text_splitter.split_documents(documents=documents)"
   ]
  },
  {
   "cell_type": "code",
   "execution_count": 11,
   "metadata": {},
   "outputs": [
    {
     "data": {
      "text/plain": [
       "Document(metadata={'source': '/home/data04/Desktop/Llama3_RAG_Pipeline/data/data.pdf', 'page': 0}, page_content='The Reserve Bank of India’s\\nBalance Sheet:\\n Analytics and Dynamics\\nof Evolution\\nNarendra Jadhav, Partha Ray, Dhritidyuti Bose and\\nIndranil Sen Gupta*\\nThe present paper attempts to contribute to the growing literature on central bank\\nbalance sheets drawing on a case-study of the Indian experience. The analytical commentary\\non the evolution of the Reserve Bank of India Balance Sheet in relation to the post-\\nIndependence national macroeconomic experience is partitioned into three phases on the')"
      ]
     },
     "execution_count": 11,
     "metadata": {},
     "output_type": "execute_result"
    }
   ],
   "source": [
    "docs[0]"
   ]
  },
  {
   "cell_type": "code",
   "execution_count": 12,
   "metadata": {},
   "outputs": [
    {
     "name": "stdout",
     "output_type": "stream",
     "text": [
      "Requirement already satisfied: sentence_transformers in /home/data04/Desktop/Llama3_RAG_Pipeline/ragpipeline/lib/python3.9/site-packages (3.1.1)\n",
      "Requirement already satisfied: transformers<5.0.0,>=4.38.0 in /home/data04/Desktop/Llama3_RAG_Pipeline/ragpipeline/lib/python3.9/site-packages (from sentence_transformers) (4.44.2)\n",
      "Requirement already satisfied: tqdm in /home/data04/Desktop/Llama3_RAG_Pipeline/ragpipeline/lib/python3.9/site-packages (from sentence_transformers) (4.66.5)\n",
      "Requirement already satisfied: torch>=1.11.0 in /home/data04/Desktop/Llama3_RAG_Pipeline/ragpipeline/lib/python3.9/site-packages (from sentence_transformers) (2.4.1)\n",
      "Requirement already satisfied: scikit-learn in /home/data04/Desktop/Llama3_RAG_Pipeline/ragpipeline/lib/python3.9/site-packages (from sentence_transformers) (1.5.2)\n",
      "Requirement already satisfied: scipy in /home/data04/Desktop/Llama3_RAG_Pipeline/ragpipeline/lib/python3.9/site-packages (from sentence_transformers) (1.13.1)\n",
      "Requirement already satisfied: huggingface-hub>=0.19.3 in /home/data04/Desktop/Llama3_RAG_Pipeline/ragpipeline/lib/python3.9/site-packages (from sentence_transformers) (0.25.1)\n",
      "Requirement already satisfied: Pillow in /home/data04/Desktop/Llama3_RAG_Pipeline/ragpipeline/lib/python3.9/site-packages (from sentence_transformers) (10.4.0)\n",
      "Requirement already satisfied: filelock in /home/data04/Desktop/Llama3_RAG_Pipeline/ragpipeline/lib/python3.9/site-packages (from huggingface-hub>=0.19.3->sentence_transformers) (3.16.1)\n",
      "Requirement already satisfied: fsspec>=2023.5.0 in /home/data04/Desktop/Llama3_RAG_Pipeline/ragpipeline/lib/python3.9/site-packages (from huggingface-hub>=0.19.3->sentence_transformers) (2024.9.0)\n",
      "Requirement already satisfied: packaging>=20.9 in /home/data04/Desktop/Llama3_RAG_Pipeline/ragpipeline/lib/python3.9/site-packages (from huggingface-hub>=0.19.3->sentence_transformers) (24.1)\n",
      "Requirement already satisfied: pyyaml>=5.1 in /home/data04/Desktop/Llama3_RAG_Pipeline/ragpipeline/lib/python3.9/site-packages (from huggingface-hub>=0.19.3->sentence_transformers) (6.0.2)\n",
      "Requirement already satisfied: requests in /home/data04/Desktop/Llama3_RAG_Pipeline/ragpipeline/lib/python3.9/site-packages (from huggingface-hub>=0.19.3->sentence_transformers) (2.32.3)\n",
      "Requirement already satisfied: typing-extensions>=3.7.4.3 in /home/data04/Desktop/Llama3_RAG_Pipeline/ragpipeline/lib/python3.9/site-packages (from huggingface-hub>=0.19.3->sentence_transformers) (4.12.2)\n",
      "Requirement already satisfied: sympy in /home/data04/Desktop/Llama3_RAG_Pipeline/ragpipeline/lib/python3.9/site-packages (from torch>=1.11.0->sentence_transformers) (1.13.3)\n",
      "Requirement already satisfied: networkx in /home/data04/Desktop/Llama3_RAG_Pipeline/ragpipeline/lib/python3.9/site-packages (from torch>=1.11.0->sentence_transformers) (3.2.1)\n",
      "Requirement already satisfied: jinja2 in /home/data04/Desktop/Llama3_RAG_Pipeline/ragpipeline/lib/python3.9/site-packages (from torch>=1.11.0->sentence_transformers) (3.1.4)\n",
      "Requirement already satisfied: nvidia-cuda-nvrtc-cu12==12.1.105 in /home/data04/Desktop/Llama3_RAG_Pipeline/ragpipeline/lib/python3.9/site-packages (from torch>=1.11.0->sentence_transformers) (12.1.105)\n",
      "Requirement already satisfied: nvidia-cuda-runtime-cu12==12.1.105 in /home/data04/Desktop/Llama3_RAG_Pipeline/ragpipeline/lib/python3.9/site-packages (from torch>=1.11.0->sentence_transformers) (12.1.105)\n",
      "Requirement already satisfied: nvidia-cuda-cupti-cu12==12.1.105 in /home/data04/Desktop/Llama3_RAG_Pipeline/ragpipeline/lib/python3.9/site-packages (from torch>=1.11.0->sentence_transformers) (12.1.105)\n",
      "Requirement already satisfied: nvidia-cudnn-cu12==9.1.0.70 in /home/data04/Desktop/Llama3_RAG_Pipeline/ragpipeline/lib/python3.9/site-packages (from torch>=1.11.0->sentence_transformers) (9.1.0.70)\n",
      "Requirement already satisfied: nvidia-cublas-cu12==12.1.3.1 in /home/data04/Desktop/Llama3_RAG_Pipeline/ragpipeline/lib/python3.9/site-packages (from torch>=1.11.0->sentence_transformers) (12.1.3.1)\n",
      "Requirement already satisfied: nvidia-cufft-cu12==11.0.2.54 in /home/data04/Desktop/Llama3_RAG_Pipeline/ragpipeline/lib/python3.9/site-packages (from torch>=1.11.0->sentence_transformers) (11.0.2.54)\n",
      "Requirement already satisfied: nvidia-curand-cu12==10.3.2.106 in /home/data04/Desktop/Llama3_RAG_Pipeline/ragpipeline/lib/python3.9/site-packages (from torch>=1.11.0->sentence_transformers) (10.3.2.106)\n",
      "Requirement already satisfied: nvidia-cusolver-cu12==11.4.5.107 in /home/data04/Desktop/Llama3_RAG_Pipeline/ragpipeline/lib/python3.9/site-packages (from torch>=1.11.0->sentence_transformers) (11.4.5.107)\n",
      "Requirement already satisfied: nvidia-cusparse-cu12==12.1.0.106 in /home/data04/Desktop/Llama3_RAG_Pipeline/ragpipeline/lib/python3.9/site-packages (from torch>=1.11.0->sentence_transformers) (12.1.0.106)\n",
      "Requirement already satisfied: nvidia-nccl-cu12==2.20.5 in /home/data04/Desktop/Llama3_RAG_Pipeline/ragpipeline/lib/python3.9/site-packages (from torch>=1.11.0->sentence_transformers) (2.20.5)\n",
      "Requirement already satisfied: nvidia-nvtx-cu12==12.1.105 in /home/data04/Desktop/Llama3_RAG_Pipeline/ragpipeline/lib/python3.9/site-packages (from torch>=1.11.0->sentence_transformers) (12.1.105)\n",
      "Requirement already satisfied: triton==3.0.0 in /home/data04/Desktop/Llama3_RAG_Pipeline/ragpipeline/lib/python3.9/site-packages (from torch>=1.11.0->sentence_transformers) (3.0.0)\n",
      "Requirement already satisfied: nvidia-nvjitlink-cu12 in /home/data04/Desktop/Llama3_RAG_Pipeline/ragpipeline/lib/python3.9/site-packages (from nvidia-cusolver-cu12==11.4.5.107->torch>=1.11.0->sentence_transformers) (12.6.68)\n",
      "Requirement already satisfied: numpy>=1.17 in /home/data04/Desktop/Llama3_RAG_Pipeline/ragpipeline/lib/python3.9/site-packages (from transformers<5.0.0,>=4.38.0->sentence_transformers) (1.26.4)\n",
      "Requirement already satisfied: regex!=2019.12.17 in /home/data04/Desktop/Llama3_RAG_Pipeline/ragpipeline/lib/python3.9/site-packages (from transformers<5.0.0,>=4.38.0->sentence_transformers) (2024.9.11)\n",
      "Requirement already satisfied: safetensors>=0.4.1 in /home/data04/Desktop/Llama3_RAG_Pipeline/ragpipeline/lib/python3.9/site-packages (from transformers<5.0.0,>=4.38.0->sentence_transformers) (0.4.5)\n",
      "Requirement already satisfied: tokenizers<0.20,>=0.19 in /home/data04/Desktop/Llama3_RAG_Pipeline/ragpipeline/lib/python3.9/site-packages (from transformers<5.0.0,>=4.38.0->sentence_transformers) (0.19.1)\n",
      "Requirement already satisfied: joblib>=1.2.0 in /home/data04/Desktop/Llama3_RAG_Pipeline/ragpipeline/lib/python3.9/site-packages (from scikit-learn->sentence_transformers) (1.4.2)\n",
      "Requirement already satisfied: threadpoolctl>=3.1.0 in /home/data04/Desktop/Llama3_RAG_Pipeline/ragpipeline/lib/python3.9/site-packages (from scikit-learn->sentence_transformers) (3.5.0)\n",
      "Requirement already satisfied: MarkupSafe>=2.0 in /home/data04/Desktop/Llama3_RAG_Pipeline/ragpipeline/lib/python3.9/site-packages (from jinja2->torch>=1.11.0->sentence_transformers) (2.1.5)\n",
      "Requirement already satisfied: charset-normalizer<4,>=2 in /home/data04/Desktop/Llama3_RAG_Pipeline/ragpipeline/lib/python3.9/site-packages (from requests->huggingface-hub>=0.19.3->sentence_transformers) (3.3.2)\n",
      "Requirement already satisfied: idna<4,>=2.5 in /home/data04/Desktop/Llama3_RAG_Pipeline/ragpipeline/lib/python3.9/site-packages (from requests->huggingface-hub>=0.19.3->sentence_transformers) (3.10)\n",
      "Requirement already satisfied: urllib3<3,>=1.21.1 in /home/data04/Desktop/Llama3_RAG_Pipeline/ragpipeline/lib/python3.9/site-packages (from requests->huggingface-hub>=0.19.3->sentence_transformers) (2.2.3)\n",
      "Requirement already satisfied: certifi>=2017.4.17 in /home/data04/Desktop/Llama3_RAG_Pipeline/ragpipeline/lib/python3.9/site-packages (from requests->huggingface-hub>=0.19.3->sentence_transformers) (2024.8.30)\n",
      "Requirement already satisfied: mpmath<1.4,>=1.1.0 in /home/data04/Desktop/Llama3_RAG_Pipeline/ragpipeline/lib/python3.9/site-packages (from sympy->torch>=1.11.0->sentence_transformers) (1.3.0)\n",
      "Note: you may need to restart the kernel to use updated packages.\n"
     ]
    }
   ],
   "source": [
    "pip install sentence_transformers"
   ]
  },
  {
   "cell_type": "code",
   "execution_count": 13,
   "metadata": {},
   "outputs": [],
   "source": [
    "# download embedding model\n",
    "def download_hugging_face_embeddings():\n",
    "    embeddings = HuggingFaceEmbeddings(model_name=\"sentence-transformers/all-MiniLM-L6-v2\")\n",
    "    return embeddings"
   ]
  },
  {
   "cell_type": "code",
   "execution_count": 14,
   "metadata": {},
   "outputs": [
    {
     "name": "stderr",
     "output_type": "stream",
     "text": [
      "/tmp/ipykernel_16303/3622989189.py:3: LangChainDeprecationWarning: The class `HuggingFaceEmbeddings` was deprecated in LangChain 0.2.2 and will be removed in 0.3.0. An updated version of the class exists in the :class:`~langchain-huggingface package and should be used instead. To use it run `pip install -U :class:`~langchain-huggingface` and import as `from :class:`~langchain_huggingface import HuggingFaceEmbeddings``.\n",
      "  embeddings = HuggingFaceEmbeddings(model_name=\"sentence-transformers/all-MiniLM-L6-v2\")\n",
      "/home/data04/Desktop/Llama3_RAG_Pipeline/ragpipeline/lib/python3.9/site-packages/sentence_transformers/cross_encoder/CrossEncoder.py:13: TqdmWarning: IProgress not found. Please update jupyter and ipywidgets. See https://ipywidgets.readthedocs.io/en/stable/user_install.html\n",
      "  from tqdm.autonotebook import tqdm, trange\n",
      "/home/data04/Desktop/Llama3_RAG_Pipeline/ragpipeline/lib/python3.9/site-packages/transformers/tokenization_utils_base.py:1601: FutureWarning: `clean_up_tokenization_spaces` was not set. It will be set to `True` by default. This behavior will be depracted in transformers v4.45, and will be then set to `False` by default. For more details check this issue: https://github.com/huggingface/transformers/issues/31884\n",
      "  warnings.warn(\n"
     ]
    }
   ],
   "source": [
    "embeddings = download_hugging_face_embeddings()"
   ]
  },
  {
   "cell_type": "code",
   "execution_count": 15,
   "metadata": {},
   "outputs": [
    {
     "data": {
      "text/plain": [
       "HuggingFaceEmbeddings(client=SentenceTransformer(\n",
       "  (0): Transformer({'max_seq_length': 256, 'do_lower_case': False}) with Transformer model: BertModel \n",
       "  (1): Pooling({'word_embedding_dimension': 384, 'pooling_mode_cls_token': False, 'pooling_mode_mean_tokens': True, 'pooling_mode_max_tokens': False, 'pooling_mode_mean_sqrt_len_tokens': False, 'pooling_mode_weightedmean_tokens': False, 'pooling_mode_lasttoken': False, 'include_prompt': True})\n",
       "  (2): Normalize()\n",
       "), model_name='sentence-transformers/all-MiniLM-L6-v2', cache_folder=None, model_kwargs={}, encode_kwargs={}, multi_process=False, show_progress=False)"
      ]
     },
     "execution_count": 15,
     "metadata": {},
     "output_type": "execute_result"
    }
   ],
   "source": [
    "embeddings"
   ]
  },
  {
   "cell_type": "code",
   "execution_count": 16,
   "metadata": {},
   "outputs": [
    {
     "data": {
      "text/plain": [
       "384"
      ]
     },
     "execution_count": 16,
     "metadata": {},
     "output_type": "execute_result"
    }
   ],
   "source": [
    "query_result = embeddings.embed_query(\"Hello world\")\n",
    "len(query_result)"
   ]
  },
  {
   "cell_type": "code",
   "execution_count": 17,
   "metadata": {},
   "outputs": [
    {
     "data": {
      "text/plain": [
       "[-0.034477315843105316,\n",
       " 0.031023172661662102,\n",
       " 0.006734910886734724,\n",
       " 0.02610892429947853,\n",
       " -0.03936195746064186,\n",
       " -0.1603025197982788,\n",
       " 0.06692396104335785,\n",
       " -0.006441440898925066,\n",
       " -0.04745054617524147,\n",
       " 0.014758836477994919,\n",
       " 0.07087532430887222,\n",
       " 0.055527545511722565,\n",
       " 0.01919332519173622,\n",
       " -0.026251299306750298,\n",
       " -0.01010951679199934,\n",
       " -0.026940451934933662,\n",
       " 0.022307397797703743,\n",
       " -0.022226639091968536,\n",
       " -0.1496926248073578,\n",
       " -0.01749303936958313,\n",
       " 0.007676327601075172,\n",
       " 0.054352276027202606,\n",
       " 0.0032544792629778385,\n",
       " 0.03172592446208,\n",
       " -0.08462144434452057,\n",
       " -0.029405953362584114,\n",
       " 0.05159562826156616,\n",
       " 0.048124104738235474,\n",
       " -0.003314818488433957,\n",
       " -0.05827919766306877,\n",
       " 0.04196928068995476,\n",
       " 0.02221069671213627,\n",
       " 0.12818878889083862,\n",
       " -0.02233896404504776,\n",
       " -0.011656257323920727,\n",
       " 0.06292840093374252,\n",
       " -0.03287629410624504,\n",
       " -0.09122602641582489,\n",
       " -0.031175386160612106,\n",
       " 0.05269954726099968,\n",
       " 0.047034841030836105,\n",
       " -0.08420310169458389,\n",
       " -0.030056146904826164,\n",
       " -0.020744822919368744,\n",
       " 0.009517822414636612,\n",
       " -0.0037217941135168076,\n",
       " 0.007343323435634375,\n",
       " 0.03932430222630501,\n",
       " 0.09327404201030731,\n",
       " -0.003788547357544303,\n",
       " -0.0527421198785305,\n",
       " -0.05805818736553192,\n",
       " -0.006864348892122507,\n",
       " 0.005283175501972437,\n",
       " 0.08289303630590439,\n",
       " 0.019362740218639374,\n",
       " 0.0062845125794410706,\n",
       " -0.010330763645470142,\n",
       " 0.009032384492456913,\n",
       " -0.03768375888466835,\n",
       " -0.04520605504512787,\n",
       " 0.024016302078962326,\n",
       " -0.006944123189896345,\n",
       " 0.013491673395037651,\n",
       " 0.10005496442317963,\n",
       " -0.0716838389635086,\n",
       " -0.021695099771022797,\n",
       " 0.031618449836969376,\n",
       " -0.051634691655635834,\n",
       " -0.08224774152040482,\n",
       " -0.06569334864616394,\n",
       " -0.009895352646708488,\n",
       " 0.005816369317471981,\n",
       " 0.07355460524559021,\n",
       " -0.03405030816793442,\n",
       " 0.02488608844578266,\n",
       " 0.0144880386069417,\n",
       " 0.026457371190190315,\n",
       " 0.00965668074786663,\n",
       " 0.030217230319976807,\n",
       " 0.052803948521614075,\n",
       " -0.07535988092422485,\n",
       " 0.009897170588374138,\n",
       " 0.02983679436147213,\n",
       " 0.01755552366375923,\n",
       " 0.023091983050107956,\n",
       " 0.0019338511629030108,\n",
       " 0.0014002013485878706,\n",
       " -0.047175996005535126,\n",
       " -0.011194296181201935,\n",
       " -0.11420141905546188,\n",
       " -0.01981193758547306,\n",
       " 0.04026622697710991,\n",
       " 0.0021929896902292967,\n",
       " -0.07979217171669006,\n",
       " -0.025382349267601967,\n",
       " 0.09448302537202835,\n",
       " -0.028981097042560577,\n",
       " -0.14500251412391663,\n",
       " 0.23097744584083557,\n",
       " 0.027731193229556084,\n",
       " 0.032111503183841705,\n",
       " 0.031064989045262337,\n",
       " 0.04283284395933151,\n",
       " 0.06423782557249069,\n",
       " 0.03216312825679779,\n",
       " -0.0048767318949103355,\n",
       " 0.05569940432906151,\n",
       " -0.037532366812229156,\n",
       " -0.02150554209947586,\n",
       " -0.028342653065919876,\n",
       " -0.028846969828009605,\n",
       " 0.03835304453969002,\n",
       " -0.017468653619289398,\n",
       " 0.052485376596450806,\n",
       " -0.07487601786851883,\n",
       " -0.03125973790884018,\n",
       " 0.021841607987880707,\n",
       " -0.03989560902118683,\n",
       " -0.00858708843588829,\n",
       " 0.02695661038160324,\n",
       " -0.04849547520279884,\n",
       " 0.01146987359970808,\n",
       " 0.029618192464113235,\n",
       " -0.020572224631905556,\n",
       " 0.013103857636451721,\n",
       " 0.028833499178290367,\n",
       " -3.1941979827962646e-33,\n",
       " 0.064782053232193,\n",
       " -0.018130194395780563,\n",
       " 0.051789894700050354,\n",
       " 0.12198271602392197,\n",
       " 0.028780169785022736,\n",
       " 0.00872202217578888,\n",
       " -0.07052113115787506,\n",
       " -0.01690724864602089,\n",
       " 0.04073973000049591,\n",
       " 0.042116161435842514,\n",
       " 0.02544720284640789,\n",
       " 0.0357462614774704,\n",
       " -0.049144722521305084,\n",
       " 0.0021290285512804985,\n",
       " -0.01554651279002428,\n",
       " 0.05073057860136032,\n",
       " -0.048185352236032486,\n",
       " 0.03588060289621353,\n",
       " -0.004067079164087772,\n",
       " 0.10172474384307861,\n",
       " -0.05597004294395447,\n",
       " -0.010681044310331345,\n",
       " 0.011235790327191353,\n",
       " 0.09068652242422104,\n",
       " 0.004234463442116976,\n",
       " 0.03513864800333977,\n",
       " -0.009702890180051327,\n",
       " -0.09386510401964188,\n",
       " 0.09285558015108109,\n",
       " 0.008004914969205856,\n",
       " -0.0077053699642419815,\n",
       " -0.0520867295563221,\n",
       " -0.012587993405759335,\n",
       " 0.003266903106123209,\n",
       " 0.0060135433450341225,\n",
       " 0.007581562269479036,\n",
       " 0.010517186485230923,\n",
       " -0.08634558320045471,\n",
       " -0.06987879425287247,\n",
       " -0.0025338977575302124,\n",
       " -0.09097658097743988,\n",
       " 0.046887289732694626,\n",
       " 0.05207657441496849,\n",
       " 0.007193864788860083,\n",
       " 0.010903616435825825,\n",
       " -0.005229519214481115,\n",
       " 0.013937349431216717,\n",
       " 0.02196834608912468,\n",
       " 0.034208595752716064,\n",
       " 0.06022465601563454,\n",
       " 0.00011663910117931664,\n",
       " 0.014731943607330322,\n",
       " -0.07008921355009079,\n",
       " 0.028499074280261993,\n",
       " -0.027601728215813637,\n",
       " 0.010768409818410873,\n",
       " 0.03483093902468681,\n",
       " -0.022487878799438477,\n",
       " 0.009769014082849026,\n",
       " 0.07722783088684082,\n",
       " 0.021588340401649475,\n",
       " 0.11495620757341385,\n",
       " -0.0680011585354805,\n",
       " 0.023761006072163582,\n",
       " -0.015983907505869865,\n",
       " -0.017826922237873077,\n",
       " 0.06439490616321564,\n",
       " 0.032025691121816635,\n",
       " 0.050270214676856995,\n",
       " -0.005913726985454559,\n",
       " -0.033708009868860245,\n",
       " 0.01784026063978672,\n",
       " 0.016573289409279823,\n",
       " 0.06329652667045593,\n",
       " 0.034677159041166306,\n",
       " 0.04647349193692207,\n",
       " 0.09790614992380142,\n",
       " -0.006635485216975212,\n",
       " 0.025206999853253365,\n",
       " -0.07798829674720764,\n",
       " 0.016926441341638565,\n",
       " -0.0009458065615035594,\n",
       " 0.02247190847992897,\n",
       " -0.03825321048498154,\n",
       " 0.09570479393005371,\n",
       " -0.005350802093744278,\n",
       " 0.010469064116477966,\n",
       " -0.11524055153131485,\n",
       " -0.01326246652752161,\n",
       " -0.010709411464631557,\n",
       " -0.0831172838807106,\n",
       " 0.07327356189489365,\n",
       " 0.04939223453402519,\n",
       " -0.008994348347187042,\n",
       " -0.09584560245275497,\n",
       " 3.3661485617505796e-33,\n",
       " 0.12493188679218292,\n",
       " 0.0193497147411108,\n",
       " -0.05822574347257614,\n",
       " -0.03598818928003311,\n",
       " -0.05074671283364296,\n",
       " -0.045662373304367065,\n",
       " -0.08260336518287659,\n",
       " 0.14819476008415222,\n",
       " -0.08842120319604874,\n",
       " 0.060274429619312286,\n",
       " 0.05103014409542084,\n",
       " 0.010303168557584286,\n",
       " 0.14121422171592712,\n",
       " 0.030813805758953094,\n",
       " 0.06103309988975525,\n",
       " -0.05285128578543663,\n",
       " 0.1366489678621292,\n",
       " 0.009189908392727375,\n",
       " -0.017325174063444138,\n",
       " -0.012848656624555588,\n",
       " -0.007995286025106907,\n",
       " -0.05098004639148712,\n",
       " -0.052350640296936035,\n",
       " 0.0075930031016469,\n",
       " -0.01516627799719572,\n",
       " 0.016960322856903076,\n",
       " 0.021270515397191048,\n",
       " 0.020558062940835953,\n",
       " -0.12002810835838318,\n",
       " 0.014461780898272991,\n",
       " 0.026759887114167213,\n",
       " 0.025330688804388046,\n",
       " -0.042754627764225006,\n",
       " 0.006768502295017242,\n",
       " -0.014458559453487396,\n",
       " 0.04526197165250778,\n",
       " -0.09147651493549347,\n",
       " -0.019439129158854485,\n",
       " -0.01783343218266964,\n",
       " -0.054910145699977875,\n",
       " -0.052641090005636215,\n",
       " -0.010459056124091148,\n",
       " -0.052016016095876694,\n",
       " 0.020892005413770676,\n",
       " -0.0799703523516655,\n",
       " -0.012111276388168335,\n",
       " -0.05773146077990532,\n",
       " 0.02317822352051735,\n",
       " -0.008031714707612991,\n",
       " -0.02598928101360798,\n",
       " -0.07995672523975372,\n",
       " -0.02072886750102043,\n",
       " 0.0488177090883255,\n",
       " -0.02038913033902645,\n",
       " -0.04917661100625992,\n",
       " 0.014159657061100006,\n",
       " -0.06362202018499374,\n",
       " -0.0078073651529848576,\n",
       " 0.01643151044845581,\n",
       " -0.025682523846626282,\n",
       " 0.013381090946495533,\n",
       " 0.026248810812830925,\n",
       " 0.009978415444493294,\n",
       " 0.06322888284921646,\n",
       " 0.002672172849997878,\n",
       " -0.0065827565267682076,\n",
       " 0.016631929203867912,\n",
       " 0.032366491854190826,\n",
       " 0.03794245049357414,\n",
       " -0.03637605160474777,\n",
       " -0.006910907570272684,\n",
       " 0.00015963036275934428,\n",
       " -0.0016335484106093645,\n",
       " -0.027278142049908638,\n",
       " -0.028038054704666138,\n",
       " 0.04968145489692688,\n",
       " -0.02886715531349182,\n",
       " -0.002418066607788205,\n",
       " 0.014774911105632782,\n",
       " 0.009764587506651878,\n",
       " 0.005797612480819225,\n",
       " 0.013486200012266636,\n",
       " 0.005567916203290224,\n",
       " 0.037227071821689606,\n",
       " 0.00723249139264226,\n",
       " 0.0401562824845314,\n",
       " 0.0815032422542572,\n",
       " 0.07199165970087051,\n",
       " -0.013056200928986073,\n",
       " -0.042882002890110016,\n",
       " -0.0110112139955163,\n",
       " 0.00489781703799963,\n",
       " -0.009229743853211403,\n",
       " 0.03519149869680405,\n",
       " -0.05103500187397003,\n",
       " -1.571437735492509e-08,\n",
       " -0.08862444013357162,\n",
       " 0.02390933223068714,\n",
       " -0.016238756477832794,\n",
       " 0.0317004956305027,\n",
       " 0.02728424407541752,\n",
       " 0.052468810230493546,\n",
       " -0.04707096144556999,\n",
       " -0.058847490698099136,\n",
       " -0.0632081851363182,\n",
       " 0.04088858887553215,\n",
       " 0.04982799291610718,\n",
       " 0.10655169934034348,\n",
       " -0.07450234144926071,\n",
       " -0.012495442293584347,\n",
       " 0.01837068982422352,\n",
       " 0.03947409614920616,\n",
       " -0.024797888472676277,\n",
       " 0.014516280964016914,\n",
       " -0.03706915304064751,\n",
       " 0.020015738904476166,\n",
       " -4.8577076086075976e-05,\n",
       " 0.009866570122539997,\n",
       " 0.02483874000608921,\n",
       " -0.052458181977272034,\n",
       " 0.02931421808898449,\n",
       " -0.08719193190336227,\n",
       " -0.01449969969689846,\n",
       " 0.026019055396318436,\n",
       " -0.018746361136436462,\n",
       " -0.07620514184236526,\n",
       " 0.03504330292344093,\n",
       " 0.10363954305648804,\n",
       " -0.02805054374039173,\n",
       " 0.012718209996819496,\n",
       " -0.07632549852132797,\n",
       " -0.01865239255130291,\n",
       " 0.024976717308163643,\n",
       " 0.08144529908895493,\n",
       " 0.06875890493392944,\n",
       " -0.06405667215585709,\n",
       " -0.08389384299516678,\n",
       " 0.06136239320039749,\n",
       " -0.033545538783073425,\n",
       " -0.10615337640047073,\n",
       " -0.04008055850863457,\n",
       " 0.03253018110990524,\n",
       " 0.07662487775087357,\n",
       " -0.0730162188410759,\n",
       " 0.00033754485775716603,\n",
       " -0.040871694684028625,\n",
       " -0.07578853517770767,\n",
       " 0.027527635917067528,\n",
       " 0.0746254101395607,\n",
       " 0.01771724410355091,\n",
       " 0.09121844917535782,\n",
       " 0.11022017151117325,\n",
       " 0.0005697705782949924,\n",
       " 0.05146333947777748,\n",
       " -0.014551302418112755,\n",
       " 0.033232029527425766,\n",
       " 0.023792268708348274,\n",
       " -0.022889861837029457,\n",
       " 0.03893749788403511,\n",
       " 0.030206803232431412]"
      ]
     },
     "execution_count": 17,
     "metadata": {},
     "output_type": "execute_result"
    }
   ],
   "source": [
    "query_result"
   ]
  },
  {
   "cell_type": "code",
   "execution_count": 18,
   "metadata": {},
   "outputs": [
    {
     "name": "stderr",
     "output_type": "stream",
     "text": [
      "huggingface/tokenizers: The current process just got forked, after parallelism has already been used. Disabling parallelism to avoid deadlocks...\n",
      "To disable this warning, you can either:\n",
      "\t- Avoid using `tokenizers` before the fork if possible\n",
      "\t- Explicitly set the environment variable TOKENIZERS_PARALLELISM=(true | false)\n"
     ]
    },
    {
     "name": "stdout",
     "output_type": "stream",
     "text": [
      "Requirement already satisfied: faiss-gpu in /home/data04/Desktop/Llama3_RAG_Pipeline/ragpipeline/lib/python3.9/site-packages (1.7.2)\n",
      "Note: you may need to restart the kernel to use updated packages.\n"
     ]
    }
   ],
   "source": [
    "pip install faiss-gpu"
   ]
  },
  {
   "cell_type": "code",
   "execution_count": 19,
   "metadata": {},
   "outputs": [],
   "source": [
    "# Loading the data and correspond embeddings into the FAISS\n",
    "vectorstore = FAISS.from_documents(docs, embeddings)"
   ]
  },
  {
   "cell_type": "code",
   "execution_count": 20,
   "metadata": {},
   "outputs": [],
   "source": [
    "# Persist the vectors locally on disk\n",
    "vectorstore.save_local(\"faiss_index_\")"
   ]
  },
  {
   "cell_type": "code",
   "execution_count": 21,
   "metadata": {},
   "outputs": [],
   "source": [
    "# Load from local storage\n",
    "persisted_vectorstore = FAISS.load_local(\"faiss_index_\",embeddings,allow_dangerous_deserialization=True)"
   ]
  },
  {
   "cell_type": "code",
   "execution_count": 22,
   "metadata": {},
   "outputs": [],
   "source": [
    "# creating a retriever on top of database\n",
    "retriever = persisted_vectorstore.as_retriever()"
   ]
  },
  {
   "cell_type": "code",
   "execution_count": 23,
   "metadata": {},
   "outputs": [
    {
     "name": "stderr",
     "output_type": "stream",
     "text": [
      "huggingface/tokenizers: The current process just got forked, after parallelism has already been used. Disabling parallelism to avoid deadlocks...\n",
      "To disable this warning, you can either:\n",
      "\t- Avoid using `tokenizers` before the fork if possible\n",
      "\t- Explicitly set the environment variable TOKENIZERS_PARALLELISM=(true | false)\n"
     ]
    },
    {
     "name": "stdout",
     "output_type": "stream",
     "text": [
      "Requirement already satisfied: langchain_ollama in /home/data04/Desktop/Llama3_RAG_Pipeline/ragpipeline/lib/python3.9/site-packages (0.2.0)\n",
      "Requirement already satisfied: langchain-core<0.4.0,>=0.3.0 in /home/data04/Desktop/Llama3_RAG_Pipeline/ragpipeline/lib/python3.9/site-packages (from langchain_ollama) (0.3.5)\n",
      "Requirement already satisfied: ollama<1,>=0.3.0 in /home/data04/Desktop/Llama3_RAG_Pipeline/ragpipeline/lib/python3.9/site-packages (from langchain_ollama) (0.3.3)\n",
      "Requirement already satisfied: PyYAML>=5.3 in /home/data04/Desktop/Llama3_RAG_Pipeline/ragpipeline/lib/python3.9/site-packages (from langchain-core<0.4.0,>=0.3.0->langchain_ollama) (6.0.2)\n",
      "Requirement already satisfied: jsonpatch<2.0,>=1.33 in /home/data04/Desktop/Llama3_RAG_Pipeline/ragpipeline/lib/python3.9/site-packages (from langchain-core<0.4.0,>=0.3.0->langchain_ollama) (1.33)\n",
      "Requirement already satisfied: langsmith<0.2.0,>=0.1.125 in /home/data04/Desktop/Llama3_RAG_Pipeline/ragpipeline/lib/python3.9/site-packages (from langchain-core<0.4.0,>=0.3.0->langchain_ollama) (0.1.126)\n",
      "Requirement already satisfied: packaging<25,>=23.2 in /home/data04/Desktop/Llama3_RAG_Pipeline/ragpipeline/lib/python3.9/site-packages (from langchain-core<0.4.0,>=0.3.0->langchain_ollama) (24.1)\n",
      "Requirement already satisfied: pydantic<3.0.0,>=2.5.2 in /home/data04/Desktop/Llama3_RAG_Pipeline/ragpipeline/lib/python3.9/site-packages (from langchain-core<0.4.0,>=0.3.0->langchain_ollama) (2.9.2)\n",
      "Requirement already satisfied: tenacity!=8.4.0,<9.0.0,>=8.1.0 in /home/data04/Desktop/Llama3_RAG_Pipeline/ragpipeline/lib/python3.9/site-packages (from langchain-core<0.4.0,>=0.3.0->langchain_ollama) (8.5.0)\n",
      "Requirement already satisfied: typing-extensions>=4.7 in /home/data04/Desktop/Llama3_RAG_Pipeline/ragpipeline/lib/python3.9/site-packages (from langchain-core<0.4.0,>=0.3.0->langchain_ollama) (4.12.2)\n",
      "Requirement already satisfied: httpx<0.28.0,>=0.27.0 in /home/data04/Desktop/Llama3_RAG_Pipeline/ragpipeline/lib/python3.9/site-packages (from ollama<1,>=0.3.0->langchain_ollama) (0.27.2)\n",
      "Requirement already satisfied: anyio in /home/data04/Desktop/Llama3_RAG_Pipeline/ragpipeline/lib/python3.9/site-packages (from httpx<0.28.0,>=0.27.0->ollama<1,>=0.3.0->langchain_ollama) (4.6.0)\n",
      "Requirement already satisfied: certifi in /home/data04/Desktop/Llama3_RAG_Pipeline/ragpipeline/lib/python3.9/site-packages (from httpx<0.28.0,>=0.27.0->ollama<1,>=0.3.0->langchain_ollama) (2024.8.30)\n",
      "Requirement already satisfied: httpcore==1.* in /home/data04/Desktop/Llama3_RAG_Pipeline/ragpipeline/lib/python3.9/site-packages (from httpx<0.28.0,>=0.27.0->ollama<1,>=0.3.0->langchain_ollama) (1.0.5)\n",
      "Requirement already satisfied: idna in /home/data04/Desktop/Llama3_RAG_Pipeline/ragpipeline/lib/python3.9/site-packages (from httpx<0.28.0,>=0.27.0->ollama<1,>=0.3.0->langchain_ollama) (3.10)\n",
      "Requirement already satisfied: sniffio in /home/data04/Desktop/Llama3_RAG_Pipeline/ragpipeline/lib/python3.9/site-packages (from httpx<0.28.0,>=0.27.0->ollama<1,>=0.3.0->langchain_ollama) (1.3.1)\n",
      "Requirement already satisfied: h11<0.15,>=0.13 in /home/data04/Desktop/Llama3_RAG_Pipeline/ragpipeline/lib/python3.9/site-packages (from httpcore==1.*->httpx<0.28.0,>=0.27.0->ollama<1,>=0.3.0->langchain_ollama) (0.14.0)\n",
      "Requirement already satisfied: jsonpointer>=1.9 in /home/data04/Desktop/Llama3_RAG_Pipeline/ragpipeline/lib/python3.9/site-packages (from jsonpatch<2.0,>=1.33->langchain-core<0.4.0,>=0.3.0->langchain_ollama) (3.0.0)\n",
      "Requirement already satisfied: orjson<4.0.0,>=3.9.14 in /home/data04/Desktop/Llama3_RAG_Pipeline/ragpipeline/lib/python3.9/site-packages (from langsmith<0.2.0,>=0.1.125->langchain-core<0.4.0,>=0.3.0->langchain_ollama) (3.10.7)\n",
      "Requirement already satisfied: requests<3,>=2 in /home/data04/Desktop/Llama3_RAG_Pipeline/ragpipeline/lib/python3.9/site-packages (from langsmith<0.2.0,>=0.1.125->langchain-core<0.4.0,>=0.3.0->langchain_ollama) (2.32.3)\n",
      "Requirement already satisfied: annotated-types>=0.6.0 in /home/data04/Desktop/Llama3_RAG_Pipeline/ragpipeline/lib/python3.9/site-packages (from pydantic<3.0.0,>=2.5.2->langchain-core<0.4.0,>=0.3.0->langchain_ollama) (0.7.0)\n",
      "Requirement already satisfied: pydantic-core==2.23.4 in /home/data04/Desktop/Llama3_RAG_Pipeline/ragpipeline/lib/python3.9/site-packages (from pydantic<3.0.0,>=2.5.2->langchain-core<0.4.0,>=0.3.0->langchain_ollama) (2.23.4)\n",
      "Requirement already satisfied: charset-normalizer<4,>=2 in /home/data04/Desktop/Llama3_RAG_Pipeline/ragpipeline/lib/python3.9/site-packages (from requests<3,>=2->langsmith<0.2.0,>=0.1.125->langchain-core<0.4.0,>=0.3.0->langchain_ollama) (3.3.2)\n",
      "Requirement already satisfied: urllib3<3,>=1.21.1 in /home/data04/Desktop/Llama3_RAG_Pipeline/ragpipeline/lib/python3.9/site-packages (from requests<3,>=2->langsmith<0.2.0,>=0.1.125->langchain-core<0.4.0,>=0.3.0->langchain_ollama) (2.2.3)\n",
      "Requirement already satisfied: exceptiongroup>=1.0.2 in /home/data04/Desktop/Llama3_RAG_Pipeline/ragpipeline/lib/python3.9/site-packages (from anyio->httpx<0.28.0,>=0.27.0->ollama<1,>=0.3.0->langchain_ollama) (1.2.2)\n",
      "Note: you may need to restart the kernel to use updated packages.\n"
     ]
    }
   ],
   "source": [
    "pip install langchain_ollama"
   ]
  },
  {
   "cell_type": "code",
   "execution_count": 24,
   "metadata": {},
   "outputs": [],
   "source": [
    "from langchain_community.llms import Ollama"
   ]
  },
  {
   "cell_type": "code",
   "execution_count": 25,
   "metadata": {},
   "outputs": [],
   "source": [
    "# Initialize an instance of the Ollama model\n",
    "llm = Ollama(model=\"llama3.1\")"
   ]
  },
  {
   "cell_type": "code",
   "execution_count": 26,
   "metadata": {},
   "outputs": [
    {
     "name": "stdout",
     "output_type": "stream",
     "text": [
      "Here's one:\n",
      "\n",
      "What do you call a fake noodle?\n",
      "\n",
      "An impasta.\n"
     ]
    }
   ],
   "source": [
    "response = llm.invoke(\"Tell me a joke\")\n",
    "print(response)"
   ]
  },
  {
   "cell_type": "code",
   "execution_count": 44,
   "metadata": {},
   "outputs": [],
   "source": [
    "prompt_template = \"\"\"\n",
    "Use the following pieces of information to answer the user's question.\n",
    "If you don't know the answer, just say that you don't know, don't try to make up an answer.\n",
    "\n",
    "Context: {context}\n",
    "Question: {question}\n",
    "\n",
    "Only return the helpful answer below and nothing else.\n",
    "Helpful answer:\n",
    "\"\"\""
   ]
  },
  {
   "cell_type": "code",
   "execution_count": 45,
   "metadata": {},
   "outputs": [],
   "source": [
    "from langchain import PromptTemplate\n",
    "prompt = PromptTemplate(template=prompt_template,\n",
    "                        input_variables=[\"context\",\"question\"])\n",
    "chain_type_kwargs = {\"prompt\": prompt, \"verbose\": True}"
   ]
  },
  {
   "cell_type": "code",
   "execution_count": 52,
   "metadata": {},
   "outputs": [],
   "source": [
    "# Use RetrievalQA chain for orchestration\n",
    "qa = RetrievalQA.from_chain_type(\n",
    "    llm=llm,\n",
    "    chain_type=\"stuff\",\n",
    "    retriever=retriever,\n",
    "    chain_type_kwargs=chain_type_kwargs # or True if you want detailed output\n",
    ")\n",
    "\n"
   ]
  },
  {
   "cell_type": "code",
   "execution_count": 54,
   "metadata": {},
   "outputs": [
    {
     "ename": "AttributeError",
     "evalue": "'FieldInfo' object has no attribute 'handlers'",
     "output_type": "error",
     "traceback": [
      "\u001b[0;31m---------------------------------------------------------------------------\u001b[0m",
      "\u001b[0;31mAttributeError\u001b[0m                            Traceback (most recent call last)",
      "Cell \u001b[0;32mIn[54], line 2\u001b[0m\n\u001b[1;32m      1\u001b[0m query \u001b[38;5;241m=\u001b[39m \u001b[38;5;124m\"\u001b[39m\u001b[38;5;124mwhat is Phase of Financial Sector Liberalisation\u001b[39m\u001b[38;5;124m\"\u001b[39m\n\u001b[0;32m----> 2\u001b[0m \u001b[43mqa\u001b[49m\u001b[38;5;241;43m.\u001b[39;49m\u001b[43mrun\u001b[49m\u001b[43m(\u001b[49m\u001b[43mquery\u001b[49m\u001b[43m)\u001b[49m\n",
      "File \u001b[0;32m~/Desktop/Llama3_RAG_Pipeline/ragpipeline/lib/python3.9/site-packages/langchain_core/_api/deprecation.py:179\u001b[0m, in \u001b[0;36mdeprecated.<locals>.deprecate.<locals>.warning_emitting_wrapper\u001b[0;34m(*args, **kwargs)\u001b[0m\n\u001b[1;32m    177\u001b[0m     warned \u001b[38;5;241m=\u001b[39m \u001b[38;5;28;01mTrue\u001b[39;00m\n\u001b[1;32m    178\u001b[0m     emit_warning()\n\u001b[0;32m--> 179\u001b[0m \u001b[38;5;28;01mreturn\u001b[39;00m \u001b[43mwrapped\u001b[49m\u001b[43m(\u001b[49m\u001b[38;5;241;43m*\u001b[39;49m\u001b[43margs\u001b[49m\u001b[43m,\u001b[49m\u001b[43m \u001b[49m\u001b[38;5;241;43m*\u001b[39;49m\u001b[38;5;241;43m*\u001b[39;49m\u001b[43mkwargs\u001b[49m\u001b[43m)\u001b[49m\n",
      "File \u001b[0;32m~/Desktop/Llama3_RAG_Pipeline/ragpipeline/lib/python3.9/site-packages/langchain/chains/base.py:600\u001b[0m, in \u001b[0;36mrun\u001b[0;34m(self, callbacks, tags, metadata, *args, **kwargs)\u001b[0m\n\u001b[1;32m    555\u001b[0m @deprecated(\"0.1.0\", alternative=\"invoke\", removal=\"1.0\")\n\u001b[1;32m    556\u001b[0m def run(\n\u001b[1;32m    557\u001b[0m     self,\n\u001b[0;32m   (...)\u001b[0m\n\u001b[1;32m    562\u001b[0m     **kwargs: Any,\n\u001b[1;32m    563\u001b[0m ) -> Any:\n\u001b[1;32m    564\u001b[0m     \"\"\"Convenience method for executing chain.\n\u001b[1;32m    565\u001b[0m \n\u001b[1;32m    566\u001b[0m     The main difference between this method and `Chain.__call__` is that this\n\u001b[0;32m   (...)\u001b[0m\n\u001b[1;32m    598\u001b[0m             # -> \"The temperature in Boise is...\"\n\u001b[1;32m    599\u001b[0m     \"\"\"\n\u001b[0;32m--> 600\u001b[0m     # Run at start to make sure this is possible/defined\n\u001b[1;32m    601\u001b[0m     _output_key = self._run_output_key\n\u001b[1;32m    603\u001b[0m     if args and not kwargs:\n",
      "File \u001b[0;32m~/Desktop/Llama3_RAG_Pipeline/ragpipeline/lib/python3.9/site-packages/langchain_core/_api/deprecation.py:179\u001b[0m, in \u001b[0;36mdeprecated.<locals>.deprecate.<locals>.warning_emitting_wrapper\u001b[0;34m(*args, **kwargs)\u001b[0m\n\u001b[1;32m    177\u001b[0m     warned \u001b[38;5;241m=\u001b[39m \u001b[38;5;28;01mTrue\u001b[39;00m\n\u001b[1;32m    178\u001b[0m     emit_warning()\n\u001b[0;32m--> 179\u001b[0m \u001b[38;5;28;01mreturn\u001b[39;00m \u001b[43mwrapped\u001b[49m\u001b[43m(\u001b[49m\u001b[38;5;241;43m*\u001b[39;49m\u001b[43margs\u001b[49m\u001b[43m,\u001b[49m\u001b[43m \u001b[49m\u001b[38;5;241;43m*\u001b[39;49m\u001b[38;5;241;43m*\u001b[39;49m\u001b[43mkwargs\u001b[49m\u001b[43m)\u001b[49m\n",
      "File \u001b[0;32m~/Desktop/Llama3_RAG_Pipeline/ragpipeline/lib/python3.9/site-packages/langchain/chains/base.py:383\u001b[0m, in \u001b[0;36m__call__\u001b[0;34m(self, inputs, return_only_outputs, callbacks, tags, metadata, run_name, include_run_info)\u001b[0m\n\u001b[1;32m    345\u001b[0m \u001b[38;5;129m@deprecated\u001b[39m(\u001b[38;5;124m\"\u001b[39m\u001b[38;5;124m0.1.0\u001b[39m\u001b[38;5;124m\"\u001b[39m, alternative\u001b[38;5;241m=\u001b[39m\u001b[38;5;124m\"\u001b[39m\u001b[38;5;124minvoke\u001b[39m\u001b[38;5;124m\"\u001b[39m, removal\u001b[38;5;241m=\u001b[39m\u001b[38;5;124m\"\u001b[39m\u001b[38;5;124m1.0\u001b[39m\u001b[38;5;124m\"\u001b[39m)\n\u001b[1;32m    346\u001b[0m \u001b[38;5;28;01mdef\u001b[39;00m \u001b[38;5;21m__call__\u001b[39m(\n\u001b[1;32m    347\u001b[0m     \u001b[38;5;28mself\u001b[39m,\n\u001b[0;32m   (...)\u001b[0m\n\u001b[1;32m    355\u001b[0m     include_run_info: \u001b[38;5;28mbool\u001b[39m \u001b[38;5;241m=\u001b[39m \u001b[38;5;28;01mFalse\u001b[39;00m,\n\u001b[1;32m    356\u001b[0m ) \u001b[38;5;241m-\u001b[39m\u001b[38;5;241m>\u001b[39m Dict[\u001b[38;5;28mstr\u001b[39m, Any]:\n\u001b[1;32m    357\u001b[0m \u001b[38;5;250m    \u001b[39m\u001b[38;5;124;03m\"\"\"Execute the chain.\u001b[39;00m\n\u001b[1;32m    358\u001b[0m \n\u001b[1;32m    359\u001b[0m \u001b[38;5;124;03m    Args:\u001b[39;00m\n\u001b[0;32m   (...)\u001b[0m\n\u001b[1;32m    380\u001b[0m \u001b[38;5;124;03m            `Chain.output_keys`.\u001b[39;00m\n\u001b[1;32m    381\u001b[0m \u001b[38;5;124;03m    \"\"\"\u001b[39;00m\n\u001b[1;32m    382\u001b[0m     config \u001b[38;5;241m=\u001b[39m {\n\u001b[0;32m--> 383\u001b[0m         \u001b[38;5;124m\"\u001b[39m\u001b[38;5;124mcallbacks\u001b[39m\u001b[38;5;124m\"\u001b[39m: callbacks,\n\u001b[1;32m    384\u001b[0m         \u001b[38;5;124m\"\u001b[39m\u001b[38;5;124mtags\u001b[39m\u001b[38;5;124m\"\u001b[39m: tags,\n\u001b[1;32m    385\u001b[0m         \u001b[38;5;124m\"\u001b[39m\u001b[38;5;124mmetadata\u001b[39m\u001b[38;5;124m\"\u001b[39m: metadata,\n\u001b[1;32m    386\u001b[0m         \u001b[38;5;124m\"\u001b[39m\u001b[38;5;124mrun_name\u001b[39m\u001b[38;5;124m\"\u001b[39m: run_name,\n\u001b[1;32m    387\u001b[0m     }\n\u001b[1;32m    389\u001b[0m     \u001b[38;5;28;01mreturn\u001b[39;00m \u001b[38;5;28mself\u001b[39m\u001b[38;5;241m.\u001b[39minvoke(\n\u001b[1;32m    390\u001b[0m         inputs,\n\u001b[1;32m    391\u001b[0m         cast(RunnableConfig, {k: v \u001b[38;5;28;01mfor\u001b[39;00m k, v \u001b[38;5;129;01min\u001b[39;00m config\u001b[38;5;241m.\u001b[39mitems() \u001b[38;5;28;01mif\u001b[39;00m v \u001b[38;5;129;01mis\u001b[39;00m \u001b[38;5;129;01mnot\u001b[39;00m \u001b[38;5;28;01mNone\u001b[39;00m}),\n\u001b[1;32m    392\u001b[0m         return_only_outputs\u001b[38;5;241m=\u001b[39mreturn_only_outputs,\n\u001b[1;32m    393\u001b[0m         include_run_info\u001b[38;5;241m=\u001b[39minclude_run_info,\n\u001b[1;32m    394\u001b[0m     )\n",
      "File \u001b[0;32m~/Desktop/Llama3_RAG_Pipeline/ragpipeline/lib/python3.9/site-packages/langchain/chains/base.py:136\u001b[0m, in \u001b[0;36minvoke\u001b[0;34m(self, input, config, **kwargs)\u001b[0m\n\u001b[1;32m    134\u001b[0m run_name \u001b[38;5;241m=\u001b[39m config\u001b[38;5;241m.\u001b[39mget(\u001b[38;5;124m\"\u001b[39m\u001b[38;5;124mrun_name\u001b[39m\u001b[38;5;124m\"\u001b[39m) \u001b[38;5;129;01mor\u001b[39;00m \u001b[38;5;28mself\u001b[39m\u001b[38;5;241m.\u001b[39mget_name()\n\u001b[1;32m    135\u001b[0m run_id \u001b[38;5;241m=\u001b[39m config\u001b[38;5;241m.\u001b[39mget(\u001b[38;5;124m\"\u001b[39m\u001b[38;5;124mrun_id\u001b[39m\u001b[38;5;124m\"\u001b[39m)\n\u001b[0;32m--> 136\u001b[0m include_run_info \u001b[38;5;241m=\u001b[39m kwargs\u001b[38;5;241m.\u001b[39mget(\u001b[38;5;124m\"\u001b[39m\u001b[38;5;124minclude_run_info\u001b[39m\u001b[38;5;124m\"\u001b[39m, \u001b[38;5;28;01mFalse\u001b[39;00m)\n\u001b[1;32m    137\u001b[0m return_only_outputs \u001b[38;5;241m=\u001b[39m kwargs\u001b[38;5;241m.\u001b[39mget(\u001b[38;5;124m\"\u001b[39m\u001b[38;5;124mreturn_only_outputs\u001b[39m\u001b[38;5;124m\"\u001b[39m, \u001b[38;5;28;01mFalse\u001b[39;00m)\n\u001b[1;32m    139\u001b[0m inputs \u001b[38;5;241m=\u001b[39m \u001b[38;5;28mself\u001b[39m\u001b[38;5;241m.\u001b[39mprep_inputs(\u001b[38;5;28minput\u001b[39m)\n",
      "File \u001b[0;32m~/Desktop/Llama3_RAG_Pipeline/ragpipeline/lib/python3.9/site-packages/langchain_core/callbacks/manager.py:1563\u001b[0m, in \u001b[0;36mCallbackManager.configure\u001b[0;34m(cls, inheritable_callbacks, local_callbacks, verbose, inheritable_tags, local_tags, inheritable_metadata, local_metadata)\u001b[0m\n\u001b[1;32m   1532\u001b[0m \u001b[38;5;129m@classmethod\u001b[39m\n\u001b[1;32m   1533\u001b[0m \u001b[38;5;28;01mdef\u001b[39;00m \u001b[38;5;21mconfigure\u001b[39m(\n\u001b[1;32m   1534\u001b[0m     \u001b[38;5;28mcls\u001b[39m,\n\u001b[0;32m   (...)\u001b[0m\n\u001b[1;32m   1541\u001b[0m     local_metadata: Optional[\u001b[38;5;28mdict\u001b[39m[\u001b[38;5;28mstr\u001b[39m, Any]] \u001b[38;5;241m=\u001b[39m \u001b[38;5;28;01mNone\u001b[39;00m,\n\u001b[1;32m   1542\u001b[0m ) \u001b[38;5;241m-\u001b[39m\u001b[38;5;241m>\u001b[39m CallbackManager:\n\u001b[1;32m   1543\u001b[0m \u001b[38;5;250m    \u001b[39m\u001b[38;5;124;03m\"\"\"Configure the callback manager.\u001b[39;00m\n\u001b[1;32m   1544\u001b[0m \n\u001b[1;32m   1545\u001b[0m \u001b[38;5;124;03m    Args:\u001b[39;00m\n\u001b[0;32m   (...)\u001b[0m\n\u001b[1;32m   1561\u001b[0m \u001b[38;5;124;03m        CallbackManager: The configured callback manager.\u001b[39;00m\n\u001b[1;32m   1562\u001b[0m \u001b[38;5;124;03m    \"\"\"\u001b[39;00m\n\u001b[0;32m-> 1563\u001b[0m     \u001b[38;5;28;01mreturn\u001b[39;00m \u001b[43m_configure\u001b[49m\u001b[43m(\u001b[49m\n\u001b[1;32m   1564\u001b[0m \u001b[43m        \u001b[49m\u001b[38;5;28;43mcls\u001b[39;49m\u001b[43m,\u001b[49m\n\u001b[1;32m   1565\u001b[0m \u001b[43m        \u001b[49m\u001b[43minheritable_callbacks\u001b[49m\u001b[43m,\u001b[49m\n\u001b[1;32m   1566\u001b[0m \u001b[43m        \u001b[49m\u001b[43mlocal_callbacks\u001b[49m\u001b[43m,\u001b[49m\n\u001b[1;32m   1567\u001b[0m \u001b[43m        \u001b[49m\u001b[43mverbose\u001b[49m\u001b[43m,\u001b[49m\n\u001b[1;32m   1568\u001b[0m \u001b[43m        \u001b[49m\u001b[43minheritable_tags\u001b[49m\u001b[43m,\u001b[49m\n\u001b[1;32m   1569\u001b[0m \u001b[43m        \u001b[49m\u001b[43mlocal_tags\u001b[49m\u001b[43m,\u001b[49m\n\u001b[1;32m   1570\u001b[0m \u001b[43m        \u001b[49m\u001b[43minheritable_metadata\u001b[49m\u001b[43m,\u001b[49m\n\u001b[1;32m   1571\u001b[0m \u001b[43m        \u001b[49m\u001b[43mlocal_metadata\u001b[49m\u001b[43m,\u001b[49m\n\u001b[1;32m   1572\u001b[0m \u001b[43m    \u001b[49m\u001b[43m)\u001b[49m\n",
      "File \u001b[0;32m~/Desktop/Llama3_RAG_Pipeline/ragpipeline/lib/python3.9/site-packages/langchain_core/callbacks/manager.py:2271\u001b[0m, in \u001b[0;36m_configure\u001b[0;34m(callback_manager_cls, inheritable_callbacks, local_callbacks, verbose, inheritable_tags, local_tags, inheritable_metadata, local_metadata)\u001b[0m\n\u001b[1;32m   2257\u001b[0m         \u001b[38;5;66;03m# Otherwise, we assume the LC context has progressed\u001b[39;00m\n\u001b[1;32m   2258\u001b[0m         \u001b[38;5;66;03m# beyond the run tree and we should not inherit the parent.\u001b[39;00m\n\u001b[1;32m   2259\u001b[0m     callback_manager \u001b[38;5;241m=\u001b[39m callback_manager_cls(\n\u001b[1;32m   2260\u001b[0m         handlers\u001b[38;5;241m=\u001b[39minheritable_callbacks\u001b[38;5;241m.\u001b[39mhandlers\u001b[38;5;241m.\u001b[39mcopy(),\n\u001b[1;32m   2261\u001b[0m         inheritable_handlers\u001b[38;5;241m=\u001b[39minheritable_callbacks\u001b[38;5;241m.\u001b[39minheritable_handlers\u001b[38;5;241m.\u001b[39mcopy(),\n\u001b[0;32m   (...)\u001b[0m\n\u001b[1;32m   2266\u001b[0m         inheritable_metadata\u001b[38;5;241m=\u001b[39minheritable_callbacks\u001b[38;5;241m.\u001b[39minheritable_metadata\u001b[38;5;241m.\u001b[39mcopy(),\n\u001b[1;32m   2267\u001b[0m     )\n\u001b[1;32m   2268\u001b[0m local_handlers_ \u001b[38;5;241m=\u001b[39m (\n\u001b[1;32m   2269\u001b[0m     local_callbacks\n\u001b[1;32m   2270\u001b[0m     \u001b[38;5;28;01mif\u001b[39;00m \u001b[38;5;28misinstance\u001b[39m(local_callbacks, \u001b[38;5;28mlist\u001b[39m)\n\u001b[0;32m-> 2271\u001b[0m     \u001b[38;5;28;01melse\u001b[39;00m (\u001b[43mlocal_callbacks\u001b[49m\u001b[38;5;241;43m.\u001b[39;49m\u001b[43mhandlers\u001b[49m \u001b[38;5;28;01mif\u001b[39;00m local_callbacks \u001b[38;5;28;01melse\u001b[39;00m [])\n\u001b[1;32m   2272\u001b[0m )\n\u001b[1;32m   2273\u001b[0m \u001b[38;5;28;01mfor\u001b[39;00m handler \u001b[38;5;129;01min\u001b[39;00m local_handlers_:\n\u001b[1;32m   2274\u001b[0m     callback_manager\u001b[38;5;241m.\u001b[39madd_handler(handler, \u001b[38;5;28;01mFalse\u001b[39;00m)\n",
      "\u001b[0;31mAttributeError\u001b[0m: 'FieldInfo' object has no attribute 'handlers'"
     ]
    }
   ],
   "source": [
    "query = \"what is Phase of Financial Sector Liberalisation\"\n",
    "qa.run(query)"
   ]
  },
  {
   "cell_type": "code",
   "execution_count": 40,
   "metadata": {},
   "outputs": [
    {
     "ename": "AttributeError",
     "evalue": "'FieldInfo' object has no attribute 'handlers'",
     "output_type": "error",
     "traceback": [
      "\u001b[0;31m---------------------------------------------------------------------------\u001b[0m",
      "\u001b[0;31mAttributeError\u001b[0m                            Traceback (most recent call last)",
      "Cell \u001b[0;32mIn[40], line 5\u001b[0m\n\u001b[1;32m      3\u001b[0m \u001b[38;5;28;01mif\u001b[39;00m query \u001b[38;5;241m==\u001b[39m \u001b[38;5;124m\"\u001b[39m\u001b[38;5;124mExit\u001b[39m\u001b[38;5;124m\"\u001b[39m:\n\u001b[1;32m      4\u001b[0m     \u001b[38;5;28;01mbreak\u001b[39;00m\n\u001b[0;32m----> 5\u001b[0m result \u001b[38;5;241m=\u001b[39m \u001b[43mqa\u001b[49m\u001b[43m(\u001b[49m\u001b[43mquery\u001b[49m\u001b[43m)\u001b[49m\n\u001b[1;32m      6\u001b[0m \u001b[38;5;28mprint\u001b[39m(query)\n\u001b[1;32m      7\u001b[0m \u001b[38;5;28mprint\u001b[39m(result)\n",
      "File \u001b[0;32m~/Desktop/Llama3_RAG_Pipeline/ragpipeline/lib/python3.9/site-packages/langchain_core/_api/deprecation.py:179\u001b[0m, in \u001b[0;36mdeprecated.<locals>.deprecate.<locals>.warning_emitting_wrapper\u001b[0;34m(*args, **kwargs)\u001b[0m\n\u001b[1;32m    177\u001b[0m     warned \u001b[38;5;241m=\u001b[39m \u001b[38;5;28;01mTrue\u001b[39;00m\n\u001b[1;32m    178\u001b[0m     emit_warning()\n\u001b[0;32m--> 179\u001b[0m \u001b[38;5;28;01mreturn\u001b[39;00m \u001b[43mwrapped\u001b[49m\u001b[43m(\u001b[49m\u001b[38;5;241;43m*\u001b[39;49m\u001b[43margs\u001b[49m\u001b[43m,\u001b[49m\u001b[43m \u001b[49m\u001b[38;5;241;43m*\u001b[39;49m\u001b[38;5;241;43m*\u001b[39;49m\u001b[43mkwargs\u001b[49m\u001b[43m)\u001b[49m\n",
      "File \u001b[0;32m~/Desktop/Llama3_RAG_Pipeline/ragpipeline/lib/python3.9/site-packages/langchain/chains/base.py:383\u001b[0m, in \u001b[0;36m__call__\u001b[0;34m(self, inputs, return_only_outputs, callbacks, tags, metadata, run_name, include_run_info)\u001b[0m\n\u001b[1;32m    345\u001b[0m \u001b[38;5;129m@deprecated\u001b[39m(\u001b[38;5;124m\"\u001b[39m\u001b[38;5;124m0.1.0\u001b[39m\u001b[38;5;124m\"\u001b[39m, alternative\u001b[38;5;241m=\u001b[39m\u001b[38;5;124m\"\u001b[39m\u001b[38;5;124minvoke\u001b[39m\u001b[38;5;124m\"\u001b[39m, removal\u001b[38;5;241m=\u001b[39m\u001b[38;5;124m\"\u001b[39m\u001b[38;5;124m1.0\u001b[39m\u001b[38;5;124m\"\u001b[39m)\n\u001b[1;32m    346\u001b[0m \u001b[38;5;28;01mdef\u001b[39;00m \u001b[38;5;21m__call__\u001b[39m(\n\u001b[1;32m    347\u001b[0m     \u001b[38;5;28mself\u001b[39m,\n\u001b[0;32m   (...)\u001b[0m\n\u001b[1;32m    355\u001b[0m     include_run_info: \u001b[38;5;28mbool\u001b[39m \u001b[38;5;241m=\u001b[39m \u001b[38;5;28;01mFalse\u001b[39;00m,\n\u001b[1;32m    356\u001b[0m ) \u001b[38;5;241m-\u001b[39m\u001b[38;5;241m>\u001b[39m Dict[\u001b[38;5;28mstr\u001b[39m, Any]:\n\u001b[1;32m    357\u001b[0m \u001b[38;5;250m    \u001b[39m\u001b[38;5;124;03m\"\"\"Execute the chain.\u001b[39;00m\n\u001b[1;32m    358\u001b[0m \n\u001b[1;32m    359\u001b[0m \u001b[38;5;124;03m    Args:\u001b[39;00m\n\u001b[0;32m   (...)\u001b[0m\n\u001b[1;32m    380\u001b[0m \u001b[38;5;124;03m            `Chain.output_keys`.\u001b[39;00m\n\u001b[1;32m    381\u001b[0m \u001b[38;5;124;03m    \"\"\"\u001b[39;00m\n\u001b[1;32m    382\u001b[0m     config \u001b[38;5;241m=\u001b[39m {\n\u001b[0;32m--> 383\u001b[0m         \u001b[38;5;124m\"\u001b[39m\u001b[38;5;124mcallbacks\u001b[39m\u001b[38;5;124m\"\u001b[39m: callbacks,\n\u001b[1;32m    384\u001b[0m         \u001b[38;5;124m\"\u001b[39m\u001b[38;5;124mtags\u001b[39m\u001b[38;5;124m\"\u001b[39m: tags,\n\u001b[1;32m    385\u001b[0m         \u001b[38;5;124m\"\u001b[39m\u001b[38;5;124mmetadata\u001b[39m\u001b[38;5;124m\"\u001b[39m: metadata,\n\u001b[1;32m    386\u001b[0m         \u001b[38;5;124m\"\u001b[39m\u001b[38;5;124mrun_name\u001b[39m\u001b[38;5;124m\"\u001b[39m: run_name,\n\u001b[1;32m    387\u001b[0m     }\n\u001b[1;32m    389\u001b[0m     \u001b[38;5;28;01mreturn\u001b[39;00m \u001b[38;5;28mself\u001b[39m\u001b[38;5;241m.\u001b[39minvoke(\n\u001b[1;32m    390\u001b[0m         inputs,\n\u001b[1;32m    391\u001b[0m         cast(RunnableConfig, {k: v \u001b[38;5;28;01mfor\u001b[39;00m k, v \u001b[38;5;129;01min\u001b[39;00m config\u001b[38;5;241m.\u001b[39mitems() \u001b[38;5;28;01mif\u001b[39;00m v \u001b[38;5;129;01mis\u001b[39;00m \u001b[38;5;129;01mnot\u001b[39;00m \u001b[38;5;28;01mNone\u001b[39;00m}),\n\u001b[1;32m    392\u001b[0m         return_only_outputs\u001b[38;5;241m=\u001b[39mreturn_only_outputs,\n\u001b[1;32m    393\u001b[0m         include_run_info\u001b[38;5;241m=\u001b[39minclude_run_info,\n\u001b[1;32m    394\u001b[0m     )\n",
      "File \u001b[0;32m~/Desktop/Llama3_RAG_Pipeline/ragpipeline/lib/python3.9/site-packages/langchain/chains/base.py:136\u001b[0m, in \u001b[0;36minvoke\u001b[0;34m(self, input, config, **kwargs)\u001b[0m\n\u001b[1;32m    134\u001b[0m run_name \u001b[38;5;241m=\u001b[39m config\u001b[38;5;241m.\u001b[39mget(\u001b[38;5;124m\"\u001b[39m\u001b[38;5;124mrun_name\u001b[39m\u001b[38;5;124m\"\u001b[39m) \u001b[38;5;129;01mor\u001b[39;00m \u001b[38;5;28mself\u001b[39m\u001b[38;5;241m.\u001b[39mget_name()\n\u001b[1;32m    135\u001b[0m run_id \u001b[38;5;241m=\u001b[39m config\u001b[38;5;241m.\u001b[39mget(\u001b[38;5;124m\"\u001b[39m\u001b[38;5;124mrun_id\u001b[39m\u001b[38;5;124m\"\u001b[39m)\n\u001b[0;32m--> 136\u001b[0m include_run_info \u001b[38;5;241m=\u001b[39m kwargs\u001b[38;5;241m.\u001b[39mget(\u001b[38;5;124m\"\u001b[39m\u001b[38;5;124minclude_run_info\u001b[39m\u001b[38;5;124m\"\u001b[39m, \u001b[38;5;28;01mFalse\u001b[39;00m)\n\u001b[1;32m    137\u001b[0m return_only_outputs \u001b[38;5;241m=\u001b[39m kwargs\u001b[38;5;241m.\u001b[39mget(\u001b[38;5;124m\"\u001b[39m\u001b[38;5;124mreturn_only_outputs\u001b[39m\u001b[38;5;124m\"\u001b[39m, \u001b[38;5;28;01mFalse\u001b[39;00m)\n\u001b[1;32m    139\u001b[0m inputs \u001b[38;5;241m=\u001b[39m \u001b[38;5;28mself\u001b[39m\u001b[38;5;241m.\u001b[39mprep_inputs(\u001b[38;5;28minput\u001b[39m)\n",
      "File \u001b[0;32m~/Desktop/Llama3_RAG_Pipeline/ragpipeline/lib/python3.9/site-packages/langchain_core/callbacks/manager.py:1563\u001b[0m, in \u001b[0;36mCallbackManager.configure\u001b[0;34m(cls, inheritable_callbacks, local_callbacks, verbose, inheritable_tags, local_tags, inheritable_metadata, local_metadata)\u001b[0m\n\u001b[1;32m   1532\u001b[0m \u001b[38;5;129m@classmethod\u001b[39m\n\u001b[1;32m   1533\u001b[0m \u001b[38;5;28;01mdef\u001b[39;00m \u001b[38;5;21mconfigure\u001b[39m(\n\u001b[1;32m   1534\u001b[0m     \u001b[38;5;28mcls\u001b[39m,\n\u001b[0;32m   (...)\u001b[0m\n\u001b[1;32m   1541\u001b[0m     local_metadata: Optional[\u001b[38;5;28mdict\u001b[39m[\u001b[38;5;28mstr\u001b[39m, Any]] \u001b[38;5;241m=\u001b[39m \u001b[38;5;28;01mNone\u001b[39;00m,\n\u001b[1;32m   1542\u001b[0m ) \u001b[38;5;241m-\u001b[39m\u001b[38;5;241m>\u001b[39m CallbackManager:\n\u001b[1;32m   1543\u001b[0m \u001b[38;5;250m    \u001b[39m\u001b[38;5;124;03m\"\"\"Configure the callback manager.\u001b[39;00m\n\u001b[1;32m   1544\u001b[0m \n\u001b[1;32m   1545\u001b[0m \u001b[38;5;124;03m    Args:\u001b[39;00m\n\u001b[0;32m   (...)\u001b[0m\n\u001b[1;32m   1561\u001b[0m \u001b[38;5;124;03m        CallbackManager: The configured callback manager.\u001b[39;00m\n\u001b[1;32m   1562\u001b[0m \u001b[38;5;124;03m    \"\"\"\u001b[39;00m\n\u001b[0;32m-> 1563\u001b[0m     \u001b[38;5;28;01mreturn\u001b[39;00m \u001b[43m_configure\u001b[49m\u001b[43m(\u001b[49m\n\u001b[1;32m   1564\u001b[0m \u001b[43m        \u001b[49m\u001b[38;5;28;43mcls\u001b[39;49m\u001b[43m,\u001b[49m\n\u001b[1;32m   1565\u001b[0m \u001b[43m        \u001b[49m\u001b[43minheritable_callbacks\u001b[49m\u001b[43m,\u001b[49m\n\u001b[1;32m   1566\u001b[0m \u001b[43m        \u001b[49m\u001b[43mlocal_callbacks\u001b[49m\u001b[43m,\u001b[49m\n\u001b[1;32m   1567\u001b[0m \u001b[43m        \u001b[49m\u001b[43mverbose\u001b[49m\u001b[43m,\u001b[49m\n\u001b[1;32m   1568\u001b[0m \u001b[43m        \u001b[49m\u001b[43minheritable_tags\u001b[49m\u001b[43m,\u001b[49m\n\u001b[1;32m   1569\u001b[0m \u001b[43m        \u001b[49m\u001b[43mlocal_tags\u001b[49m\u001b[43m,\u001b[49m\n\u001b[1;32m   1570\u001b[0m \u001b[43m        \u001b[49m\u001b[43minheritable_metadata\u001b[49m\u001b[43m,\u001b[49m\n\u001b[1;32m   1571\u001b[0m \u001b[43m        \u001b[49m\u001b[43mlocal_metadata\u001b[49m\u001b[43m,\u001b[49m\n\u001b[1;32m   1572\u001b[0m \u001b[43m    \u001b[49m\u001b[43m)\u001b[49m\n",
      "File \u001b[0;32m~/Desktop/Llama3_RAG_Pipeline/ragpipeline/lib/python3.9/site-packages/langchain_core/callbacks/manager.py:2271\u001b[0m, in \u001b[0;36m_configure\u001b[0;34m(callback_manager_cls, inheritable_callbacks, local_callbacks, verbose, inheritable_tags, local_tags, inheritable_metadata, local_metadata)\u001b[0m\n\u001b[1;32m   2257\u001b[0m         \u001b[38;5;66;03m# Otherwise, we assume the LC context has progressed\u001b[39;00m\n\u001b[1;32m   2258\u001b[0m         \u001b[38;5;66;03m# beyond the run tree and we should not inherit the parent.\u001b[39;00m\n\u001b[1;32m   2259\u001b[0m     callback_manager \u001b[38;5;241m=\u001b[39m callback_manager_cls(\n\u001b[1;32m   2260\u001b[0m         handlers\u001b[38;5;241m=\u001b[39minheritable_callbacks\u001b[38;5;241m.\u001b[39mhandlers\u001b[38;5;241m.\u001b[39mcopy(),\n\u001b[1;32m   2261\u001b[0m         inheritable_handlers\u001b[38;5;241m=\u001b[39minheritable_callbacks\u001b[38;5;241m.\u001b[39minheritable_handlers\u001b[38;5;241m.\u001b[39mcopy(),\n\u001b[0;32m   (...)\u001b[0m\n\u001b[1;32m   2266\u001b[0m         inheritable_metadata\u001b[38;5;241m=\u001b[39minheritable_callbacks\u001b[38;5;241m.\u001b[39minheritable_metadata\u001b[38;5;241m.\u001b[39mcopy(),\n\u001b[1;32m   2267\u001b[0m     )\n\u001b[1;32m   2268\u001b[0m local_handlers_ \u001b[38;5;241m=\u001b[39m (\n\u001b[1;32m   2269\u001b[0m     local_callbacks\n\u001b[1;32m   2270\u001b[0m     \u001b[38;5;28;01mif\u001b[39;00m \u001b[38;5;28misinstance\u001b[39m(local_callbacks, \u001b[38;5;28mlist\u001b[39m)\n\u001b[0;32m-> 2271\u001b[0m     \u001b[38;5;28;01melse\u001b[39;00m (\u001b[43mlocal_callbacks\u001b[49m\u001b[38;5;241;43m.\u001b[39;49m\u001b[43mhandlers\u001b[49m \u001b[38;5;28;01mif\u001b[39;00m local_callbacks \u001b[38;5;28;01melse\u001b[39;00m [])\n\u001b[1;32m   2272\u001b[0m )\n\u001b[1;32m   2273\u001b[0m \u001b[38;5;28;01mfor\u001b[39;00m handler \u001b[38;5;129;01min\u001b[39;00m local_handlers_:\n\u001b[1;32m   2274\u001b[0m     callback_manager\u001b[38;5;241m.\u001b[39madd_handler(handler, \u001b[38;5;28;01mFalse\u001b[39;00m)\n",
      "\u001b[0;31mAttributeError\u001b[0m: 'FieldInfo' object has no attribute 'handlers'"
     ]
    }
   ],
   "source": [
    "while True:\n",
    "    query = input(\"Type your querry if you want to exit type Exit: \\n\")\n",
    "    if query == \"Exit\":\n",
    "        break\n",
    "    result = qa(query)\n",
    "    print(query)\n",
    "    print(result)\n"
   ]
  },
  {
   "cell_type": "code",
   "execution_count": 33,
   "metadata": {},
   "outputs": [
    {
     "name": "stderr",
     "output_type": "stream",
     "text": [
      "huggingface/tokenizers: The current process just got forked, after parallelism has already been used. Disabling parallelism to avoid deadlocks...\n",
      "To disable this warning, you can either:\n",
      "\t- Avoid using `tokenizers` before the fork if possible\n",
      "\t- Explicitly set the environment variable TOKENIZERS_PARALLELISM=(true | false)\n"
     ]
    },
    {
     "name": "stdout",
     "output_type": "stream",
     "text": [
      "Requirement already satisfied: langchain in /home/data04/Desktop/Llama3_RAG_Pipeline/ragpipeline/lib/python3.9/site-packages (0.3.0)\n",
      "Requirement already satisfied: PyYAML>=5.3 in /home/data04/Desktop/Llama3_RAG_Pipeline/ragpipeline/lib/python3.9/site-packages (from langchain) (6.0.2)\n",
      "Requirement already satisfied: SQLAlchemy<3,>=1.4 in /home/data04/Desktop/Llama3_RAG_Pipeline/ragpipeline/lib/python3.9/site-packages (from langchain) (2.0.35)\n",
      "Requirement already satisfied: aiohttp<4.0.0,>=3.8.3 in /home/data04/Desktop/Llama3_RAG_Pipeline/ragpipeline/lib/python3.9/site-packages (from langchain) (3.10.5)\n",
      "Requirement already satisfied: async-timeout<5.0.0,>=4.0.0 in /home/data04/Desktop/Llama3_RAG_Pipeline/ragpipeline/lib/python3.9/site-packages (from langchain) (4.0.3)\n",
      "Requirement already satisfied: langchain-core<0.4.0,>=0.3.0 in /home/data04/Desktop/Llama3_RAG_Pipeline/ragpipeline/lib/python3.9/site-packages (from langchain) (0.3.5)\n",
      "Requirement already satisfied: langchain-text-splitters<0.4.0,>=0.3.0 in /home/data04/Desktop/Llama3_RAG_Pipeline/ragpipeline/lib/python3.9/site-packages (from langchain) (0.3.0)\n",
      "Requirement already satisfied: langsmith<0.2.0,>=0.1.17 in /home/data04/Desktop/Llama3_RAG_Pipeline/ragpipeline/lib/python3.9/site-packages (from langchain) (0.1.126)\n",
      "Requirement already satisfied: numpy<2,>=1 in /home/data04/Desktop/Llama3_RAG_Pipeline/ragpipeline/lib/python3.9/site-packages (from langchain) (1.26.4)\n",
      "Requirement already satisfied: pydantic<3.0.0,>=2.7.4 in /home/data04/Desktop/Llama3_RAG_Pipeline/ragpipeline/lib/python3.9/site-packages (from langchain) (2.9.2)\n",
      "Requirement already satisfied: requests<3,>=2 in /home/data04/Desktop/Llama3_RAG_Pipeline/ragpipeline/lib/python3.9/site-packages (from langchain) (2.32.3)\n",
      "Requirement already satisfied: tenacity!=8.4.0,<9.0.0,>=8.1.0 in /home/data04/Desktop/Llama3_RAG_Pipeline/ragpipeline/lib/python3.9/site-packages (from langchain) (8.5.0)\n",
      "Requirement already satisfied: aiohappyeyeballs>=2.3.0 in /home/data04/Desktop/Llama3_RAG_Pipeline/ragpipeline/lib/python3.9/site-packages (from aiohttp<4.0.0,>=3.8.3->langchain) (2.4.0)\n",
      "Requirement already satisfied: aiosignal>=1.1.2 in /home/data04/Desktop/Llama3_RAG_Pipeline/ragpipeline/lib/python3.9/site-packages (from aiohttp<4.0.0,>=3.8.3->langchain) (1.3.1)\n",
      "Requirement already satisfied: attrs>=17.3.0 in /home/data04/Desktop/Llama3_RAG_Pipeline/ragpipeline/lib/python3.9/site-packages (from aiohttp<4.0.0,>=3.8.3->langchain) (24.2.0)\n",
      "Requirement already satisfied: frozenlist>=1.1.1 in /home/data04/Desktop/Llama3_RAG_Pipeline/ragpipeline/lib/python3.9/site-packages (from aiohttp<4.0.0,>=3.8.3->langchain) (1.4.1)\n",
      "Requirement already satisfied: multidict<7.0,>=4.5 in /home/data04/Desktop/Llama3_RAG_Pipeline/ragpipeline/lib/python3.9/site-packages (from aiohttp<4.0.0,>=3.8.3->langchain) (6.1.0)\n",
      "Requirement already satisfied: yarl<2.0,>=1.0 in /home/data04/Desktop/Llama3_RAG_Pipeline/ragpipeline/lib/python3.9/site-packages (from aiohttp<4.0.0,>=3.8.3->langchain) (1.12.1)\n",
      "Requirement already satisfied: jsonpatch<2.0,>=1.33 in /home/data04/Desktop/Llama3_RAG_Pipeline/ragpipeline/lib/python3.9/site-packages (from langchain-core<0.4.0,>=0.3.0->langchain) (1.33)\n",
      "Requirement already satisfied: packaging<25,>=23.2 in /home/data04/Desktop/Llama3_RAG_Pipeline/ragpipeline/lib/python3.9/site-packages (from langchain-core<0.4.0,>=0.3.0->langchain) (24.1)\n",
      "Requirement already satisfied: typing-extensions>=4.7 in /home/data04/Desktop/Llama3_RAG_Pipeline/ragpipeline/lib/python3.9/site-packages (from langchain-core<0.4.0,>=0.3.0->langchain) (4.12.2)\n",
      "Requirement already satisfied: httpx<1,>=0.23.0 in /home/data04/Desktop/Llama3_RAG_Pipeline/ragpipeline/lib/python3.9/site-packages (from langsmith<0.2.0,>=0.1.17->langchain) (0.27.2)\n",
      "Requirement already satisfied: orjson<4.0.0,>=3.9.14 in /home/data04/Desktop/Llama3_RAG_Pipeline/ragpipeline/lib/python3.9/site-packages (from langsmith<0.2.0,>=0.1.17->langchain) (3.10.7)\n",
      "Requirement already satisfied: annotated-types>=0.6.0 in /home/data04/Desktop/Llama3_RAG_Pipeline/ragpipeline/lib/python3.9/site-packages (from pydantic<3.0.0,>=2.7.4->langchain) (0.7.0)\n",
      "Requirement already satisfied: pydantic-core==2.23.4 in /home/data04/Desktop/Llama3_RAG_Pipeline/ragpipeline/lib/python3.9/site-packages (from pydantic<3.0.0,>=2.7.4->langchain) (2.23.4)\n",
      "Requirement already satisfied: charset-normalizer<4,>=2 in /home/data04/Desktop/Llama3_RAG_Pipeline/ragpipeline/lib/python3.9/site-packages (from requests<3,>=2->langchain) (3.3.2)\n",
      "Requirement already satisfied: idna<4,>=2.5 in /home/data04/Desktop/Llama3_RAG_Pipeline/ragpipeline/lib/python3.9/site-packages (from requests<3,>=2->langchain) (3.10)\n",
      "Requirement already satisfied: urllib3<3,>=1.21.1 in /home/data04/Desktop/Llama3_RAG_Pipeline/ragpipeline/lib/python3.9/site-packages (from requests<3,>=2->langchain) (2.2.3)\n",
      "Requirement already satisfied: certifi>=2017.4.17 in /home/data04/Desktop/Llama3_RAG_Pipeline/ragpipeline/lib/python3.9/site-packages (from requests<3,>=2->langchain) (2024.8.30)\n",
      "Requirement already satisfied: greenlet!=0.4.17 in /home/data04/Desktop/Llama3_RAG_Pipeline/ragpipeline/lib/python3.9/site-packages (from SQLAlchemy<3,>=1.4->langchain) (3.1.1)\n",
      "Requirement already satisfied: anyio in /home/data04/Desktop/Llama3_RAG_Pipeline/ragpipeline/lib/python3.9/site-packages (from httpx<1,>=0.23.0->langsmith<0.2.0,>=0.1.17->langchain) (4.6.0)\n",
      "Requirement already satisfied: httpcore==1.* in /home/data04/Desktop/Llama3_RAG_Pipeline/ragpipeline/lib/python3.9/site-packages (from httpx<1,>=0.23.0->langsmith<0.2.0,>=0.1.17->langchain) (1.0.5)\n",
      "Requirement already satisfied: sniffio in /home/data04/Desktop/Llama3_RAG_Pipeline/ragpipeline/lib/python3.9/site-packages (from httpx<1,>=0.23.0->langsmith<0.2.0,>=0.1.17->langchain) (1.3.1)\n",
      "Requirement already satisfied: h11<0.15,>=0.13 in /home/data04/Desktop/Llama3_RAG_Pipeline/ragpipeline/lib/python3.9/site-packages (from httpcore==1.*->httpx<1,>=0.23.0->langsmith<0.2.0,>=0.1.17->langchain) (0.14.0)\n",
      "Requirement already satisfied: jsonpointer>=1.9 in /home/data04/Desktop/Llama3_RAG_Pipeline/ragpipeline/lib/python3.9/site-packages (from jsonpatch<2.0,>=1.33->langchain-core<0.4.0,>=0.3.0->langchain) (3.0.0)\n",
      "Requirement already satisfied: exceptiongroup>=1.0.2 in /home/data04/Desktop/Llama3_RAG_Pipeline/ragpipeline/lib/python3.9/site-packages (from anyio->httpx<1,>=0.23.0->langsmith<0.2.0,>=0.1.17->langchain) (1.2.2)\n",
      "Note: you may need to restart the kernel to use updated packages.\n"
     ]
    }
   ],
   "source": [
    "pip install --upgrade langchain"
   ]
  },
  {
   "cell_type": "code",
   "execution_count": null,
   "metadata": {},
   "outputs": [],
   "source": []
  },
  {
   "cell_type": "code",
   "execution_count": null,
   "metadata": {},
   "outputs": [],
   "source": []
  },
  {
   "cell_type": "code",
   "execution_count": null,
   "metadata": {},
   "outputs": [],
   "source": []
  },
  {
   "cell_type": "code",
   "execution_count": null,
   "metadata": {},
   "outputs": [],
   "source": []
  }
 ],
 "metadata": {
  "kernelspec": {
   "display_name": "Python 3",
   "language": "python",
   "name": "python3"
  },
  "language_info": {
   "codemirror_mode": {
    "name": "ipython",
    "version": 3
   },
   "file_extension": ".py",
   "mimetype": "text/x-python",
   "name": "python",
   "nbconvert_exporter": "python",
   "pygments_lexer": "ipython3",
   "version": "3.9.19"
  }
 },
 "nbformat": 4,
 "nbformat_minor": 2
}
